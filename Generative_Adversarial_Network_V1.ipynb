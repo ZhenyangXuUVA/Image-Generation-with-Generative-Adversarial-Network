{
  "nbformat": 4,
  "nbformat_minor": 0,
  "metadata": {
    "colab": {
      "provenance": []
    },
    "kernelspec": {
      "name": "python3",
      "display_name": "Python 3"
    },
    "language_info": {
      "name": "python"
    }
  },
  "cells": [
    {
      "cell_type": "code",
      "execution_count": 1,
      "metadata": {
        "id": "0VdMwyCP9HhZ"
      },
      "outputs": [],
      "source": [
        "import numpy as np\n",
        "import matplotlib.pyplot as plt\n",
        "import torch\n",
        "from torch import nn\n",
        "from torch.nn import functional as F\n",
        "from torch.utils.data import DataLoader\n",
        "from torchvision import datasets, transforms\n",
        "from torchvision.utils import make_grid\n",
        "from tqdm import tqdm\n"
      ]
    },
    {
      "cell_type": "code",
      "source": [
        "# Configuration\n",
        "epochs      = 100\n",
        "batch_size  = 64\n",
        "sample_size = 100    # Number of random values to sample\n",
        "g_lr        = 1.0e-4 # Generator's learning rate\n",
        "d_lr        = 1.0e-4 # Discriminator's learning rate"
      ],
      "metadata": {
        "id": "mrVbemeY9rOW"
      },
      "execution_count": 2,
      "outputs": []
    },
    {
      "cell_type": "code",
      "source": [
        "# DataLoader for MNIST\n",
        "transform = transforms.ToTensor()\n",
        "dataset = datasets.MNIST(root='./data', train=True, download=True, transform=transform)\n",
        "dataloader = DataLoader(dataset, batch_size=batch_size, drop_last=True)\n"
      ],
      "metadata": {
        "id": "Dvk6SsL89u0x",
        "colab": {
          "base_uri": "https://localhost:8080/"
        },
        "outputId": "c1418979-99e7-43d7-898d-691d97698f9f"
      },
      "execution_count": 3,
      "outputs": [
        {
          "output_type": "stream",
          "name": "stdout",
          "text": [
            "Downloading http://yann.lecun.com/exdb/mnist/train-images-idx3-ubyte.gz\n",
            "Downloading http://yann.lecun.com/exdb/mnist/train-images-idx3-ubyte.gz to ./data/MNIST/raw/train-images-idx3-ubyte.gz\n"
          ]
        },
        {
          "output_type": "stream",
          "name": "stderr",
          "text": [
            "100%|██████████| 9912422/9912422 [00:00<00:00, 146890916.57it/s]"
          ]
        },
        {
          "output_type": "stream",
          "name": "stdout",
          "text": [
            "Extracting ./data/MNIST/raw/train-images-idx3-ubyte.gz to ./data/MNIST/raw\n"
          ]
        },
        {
          "output_type": "stream",
          "name": "stderr",
          "text": [
            "\n"
          ]
        },
        {
          "output_type": "stream",
          "name": "stdout",
          "text": [
            "\n",
            "Downloading http://yann.lecun.com/exdb/mnist/train-labels-idx1-ubyte.gz\n",
            "Downloading http://yann.lecun.com/exdb/mnist/train-labels-idx1-ubyte.gz to ./data/MNIST/raw/train-labels-idx1-ubyte.gz\n"
          ]
        },
        {
          "output_type": "stream",
          "name": "stderr",
          "text": [
            "100%|██████████| 28881/28881 [00:00<00:00, 81081455.04it/s]\n"
          ]
        },
        {
          "output_type": "stream",
          "name": "stdout",
          "text": [
            "Extracting ./data/MNIST/raw/train-labels-idx1-ubyte.gz to ./data/MNIST/raw\n",
            "\n",
            "Downloading http://yann.lecun.com/exdb/mnist/t10k-images-idx3-ubyte.gz\n",
            "Downloading http://yann.lecun.com/exdb/mnist/t10k-images-idx3-ubyte.gz to ./data/MNIST/raw/t10k-images-idx3-ubyte.gz\n"
          ]
        },
        {
          "output_type": "stream",
          "name": "stderr",
          "text": [
            "100%|██████████| 1648877/1648877 [00:00<00:00, 31369139.27it/s]\n"
          ]
        },
        {
          "output_type": "stream",
          "name": "stdout",
          "text": [
            "Extracting ./data/MNIST/raw/t10k-images-idx3-ubyte.gz to ./data/MNIST/raw\n",
            "\n",
            "Downloading http://yann.lecun.com/exdb/mnist/t10k-labels-idx1-ubyte.gz\n",
            "Downloading http://yann.lecun.com/exdb/mnist/t10k-labels-idx1-ubyte.gz to ./data/MNIST/raw/t10k-labels-idx1-ubyte.gz\n"
          ]
        },
        {
          "output_type": "stream",
          "name": "stderr",
          "text": [
            "100%|██████████| 4542/4542 [00:00<00:00, 14399492.64it/s]\n"
          ]
        },
        {
          "output_type": "stream",
          "name": "stdout",
          "text": [
            "Extracting ./data/MNIST/raw/t10k-labels-idx1-ubyte.gz to ./data/MNIST/raw\n",
            "\n"
          ]
        }
      ]
    },
    {
      "cell_type": "code",
      "source": [
        "# Generator Network\n",
        "class Generator(nn.Sequential):\n",
        "    def __init__(self, sample_size: int):\n",
        "        super().__init__(\n",
        "            nn.Linear(sample_size, 128),\n",
        "            nn.LeakyReLU(0.01),\n",
        "            nn.Linear(128, 784),\n",
        "            nn.Sigmoid())\n",
        "\n",
        "        # Random value vector size\n",
        "        self.sample_size = sample_size\n",
        "\n",
        "    def forward(self, batch_size: int):\n",
        "        # Generate randon values\n",
        "        z = torch.randn(batch_size, self.sample_size)\n",
        "\n",
        "        # Generator output\n",
        "        output = super().forward(z)\n",
        "\n",
        "        # Convert the output into a greyscale image (1x28x28)\n",
        "        generated_images = output.reshape(batch_size, 1, 28, 28)\n",
        "        return generated_images"
      ],
      "metadata": {
        "id": "lhpusxgP9xg2"
      },
      "execution_count": 4,
      "outputs": []
    },
    {
      "cell_type": "code",
      "source": [
        "#Discriminator Network\n",
        "class Discriminator(nn.Sequential):\n",
        "    def __init__(self):\n",
        "        super().__init__(\n",
        "            nn.Linear(784, 128),\n",
        "            nn.LeakyReLU(0.01),\n",
        "            nn.Linear(128, 1))\n",
        "\n",
        "    def forward(self, images: torch.Tensor, targets: torch.Tensor):\n",
        "        prediction = super().forward(images.reshape(-1, 784))\n",
        "        loss = F.binary_cross_entropy_with_logits(prediction, targets)\n",
        "        return loss\n"
      ],
      "metadata": {
        "id": "B9peMg9C900j"
      },
      "execution_count": 5,
      "outputs": []
    },
    {
      "cell_type": "code",
      "source": [
        "# To save images in grid layout\n",
        "def save_image_grid(epoch: int, images: torch.Tensor, ncol: int):\n",
        "    image_grid = make_grid(images, ncol)     # Images in a grid\n",
        "    image_grid = image_grid.permute(1, 2, 0) # Move channel last\n",
        "    image_grid = image_grid.cpu().numpy()    # To Numpy\n",
        "\n",
        "    plt.imshow(image_grid)\n",
        "    plt.xticks([])\n",
        "    plt.yticks([])\n",
        "    plt.savefig(f'generated_{epoch:03d}.jpg')\n",
        "    plt.close()\n"
      ],
      "metadata": {
        "id": "VduK_O_098Hp"
      },
      "execution_count": 6,
      "outputs": []
    },
    {
      "cell_type": "code",
      "source": [
        "# Real and fake labels\n",
        "real_targets = torch.ones(batch_size, 1)\n",
        "fake_targets = torch.zeros(batch_size, 1)\n"
      ],
      "metadata": {
        "id": "8hqqQ4ag-AsM"
      },
      "execution_count": 7,
      "outputs": []
    },
    {
      "cell_type": "code",
      "source": [
        "# Generator and Discriminator networks\n",
        "generator = Generator(sample_size)\n",
        "discriminator = Discriminator()"
      ],
      "metadata": {
        "id": "cVk5YYoo-DX1"
      },
      "execution_count": 8,
      "outputs": []
    },
    {
      "cell_type": "code",
      "source": [
        "# Optimizers\n",
        "d_optimizer = torch.optim.Adam(discriminator.parameters(), lr=d_lr)\n",
        "g_optimizer = torch.optim.Adam(generator.parameters(), lr=g_lr)\n"
      ],
      "metadata": {
        "id": "Vkd9IoAU-Fy0"
      },
      "execution_count": 9,
      "outputs": []
    },
    {
      "cell_type": "code",
      "source": [
        "# Training loop\n",
        "for epoch in range(epochs):\n",
        "\n",
        "    d_losses = []\n",
        "    g_losses = []\n",
        "\n",
        "    for images, labels in tqdm(dataloader):\n",
        "        #===============================\n",
        "        # Discriminator Network Training\n",
        "        #===============================\n",
        "\n",
        "        # Loss with MNIST image inputs and real_targets as labels\n",
        "        discriminator.train()\n",
        "        d_loss = discriminator(images, real_targets)\n",
        "\n",
        "        # Generate images in eval mode\n",
        "        generator.eval()\n",
        "        with torch.no_grad():\n",
        "            generated_images = generator(batch_size)\n",
        "\n",
        "        # Loss with generated image inputs and fake_targets as labels\n",
        "        d_loss += discriminator(generated_images, fake_targets)\n",
        "\n",
        "        # Optimizer updates the discriminator parameters\n",
        "        d_optimizer.zero_grad()\n",
        "        d_loss.backward()\n",
        "        d_optimizer.step()\n",
        "\n",
        "        #===============================\n",
        "        # Generator Network Training\n",
        "        #===============================\n",
        "\n",
        "        # Generate images in train mode\n",
        "        generator.train()\n",
        "        generated_images = generator(batch_size)\n",
        "\n",
        "        # Loss with generated image inputs and real_targets as labels\n",
        "        discriminator.eval() # eval but we still need gradients\n",
        "        g_loss = discriminator(generated_images, real_targets)\n",
        "\n",
        "        # Optimizer updates the generator parameters\n",
        "        g_optimizer.zero_grad()\n",
        "        g_loss.backward()\n",
        "        g_optimizer.step()\n",
        "\n",
        "        # Keep losses for logging\n",
        "        d_losses.append(d_loss.item())\n",
        "        g_losses.append(g_loss.item())\n",
        "\n",
        "    # Print average losses\n",
        "    print(epoch, np.mean(d_losses), np.mean(g_losses))\n",
        "\n",
        "    # Save images\n",
        "    save_image_grid(epoch, generator(batch_size), ncol=8)"
      ],
      "metadata": {
        "id": "M2KSvyS9-Ixo",
        "colab": {
          "base_uri": "https://localhost:8080/"
        },
        "outputId": "e508f9cd-cead-4356-f10e-6e98547bc525"
      },
      "execution_count": 10,
      "outputs": [
        {
          "output_type": "stream",
          "name": "stderr",
          "text": [
            "100%|██████████| 937/937 [00:23<00:00, 40.71it/s]\n"
          ]
        },
        {
          "output_type": "stream",
          "name": "stdout",
          "text": [
            "0 0.4579072228236285 2.70171331786804\n"
          ]
        },
        {
          "output_type": "stream",
          "name": "stderr",
          "text": [
            "100%|██████████| 937/937 [00:15<00:00, 58.82it/s]\n"
          ]
        },
        {
          "output_type": "stream",
          "name": "stdout",
          "text": [
            "1 0.4140520644321513 2.0489276216276937\n"
          ]
        },
        {
          "output_type": "stream",
          "name": "stderr",
          "text": [
            "100%|██████████| 937/937 [00:15<00:00, 59.79it/s]\n"
          ]
        },
        {
          "output_type": "stream",
          "name": "stdout",
          "text": [
            "2 0.4671648385812277 1.6631388633711743\n"
          ]
        },
        {
          "output_type": "stream",
          "name": "stderr",
          "text": [
            "100%|██████████| 937/937 [00:16<00:00, 58.29it/s]\n"
          ]
        },
        {
          "output_type": "stream",
          "name": "stdout",
          "text": [
            "3 0.6227117387245915 1.1796640389884168\n"
          ]
        },
        {
          "output_type": "stream",
          "name": "stderr",
          "text": [
            "100%|██████████| 937/937 [00:17<00:00, 55.05it/s]\n"
          ]
        },
        {
          "output_type": "stream",
          "name": "stdout",
          "text": [
            "4 0.514058011700275 1.278915920786822\n"
          ]
        },
        {
          "output_type": "stream",
          "name": "stderr",
          "text": [
            "100%|██████████| 937/937 [00:16<00:00, 55.32it/s]\n"
          ]
        },
        {
          "output_type": "stream",
          "name": "stdout",
          "text": [
            "5 0.5439690992697326 1.4932737723231442\n"
          ]
        },
        {
          "output_type": "stream",
          "name": "stderr",
          "text": [
            "100%|██████████| 937/937 [00:16<00:00, 56.67it/s]\n"
          ]
        },
        {
          "output_type": "stream",
          "name": "stdout",
          "text": [
            "6 0.8187510459629169 1.4378300967567632\n"
          ]
        },
        {
          "output_type": "stream",
          "name": "stderr",
          "text": [
            "100%|██████████| 937/937 [00:16<00:00, 56.83it/s]\n"
          ]
        },
        {
          "output_type": "stream",
          "name": "stdout",
          "text": [
            "7 0.6043641148343794 1.7437858797824497\n"
          ]
        },
        {
          "output_type": "stream",
          "name": "stderr",
          "text": [
            "100%|██████████| 937/937 [00:16<00:00, 58.08it/s]\n"
          ]
        },
        {
          "output_type": "stream",
          "name": "stdout",
          "text": [
            "8 0.5701170886847864 1.8500073902634953\n"
          ]
        },
        {
          "output_type": "stream",
          "name": "stderr",
          "text": [
            "100%|██████████| 937/937 [00:17<00:00, 54.64it/s]\n"
          ]
        },
        {
          "output_type": "stream",
          "name": "stdout",
          "text": [
            "9 0.5310927195317463 1.855527222856259\n"
          ]
        },
        {
          "output_type": "stream",
          "name": "stderr",
          "text": [
            "100%|██████████| 937/937 [00:15<00:00, 59.25it/s]\n"
          ]
        },
        {
          "output_type": "stream",
          "name": "stdout",
          "text": [
            "10 0.5141374436997299 1.9036623935434835\n"
          ]
        },
        {
          "output_type": "stream",
          "name": "stderr",
          "text": [
            "100%|██████████| 937/937 [00:17<00:00, 55.11it/s]\n"
          ]
        },
        {
          "output_type": "stream",
          "name": "stdout",
          "text": [
            "11 0.5374759687876116 1.930261155202778\n"
          ]
        },
        {
          "output_type": "stream",
          "name": "stderr",
          "text": [
            "100%|██████████| 937/937 [00:16<00:00, 56.44it/s]\n"
          ]
        },
        {
          "output_type": "stream",
          "name": "stdout",
          "text": [
            "12 0.5307988069927679 1.9353771875100558\n"
          ]
        },
        {
          "output_type": "stream",
          "name": "stderr",
          "text": [
            "100%|██████████| 937/937 [00:16<00:00, 58.11it/s]\n"
          ]
        },
        {
          "output_type": "stream",
          "name": "stdout",
          "text": [
            "13 0.46827592612457886 1.9621095265497392\n"
          ]
        },
        {
          "output_type": "stream",
          "name": "stderr",
          "text": [
            "100%|██████████| 937/937 [00:16<00:00, 57.56it/s]\n"
          ]
        },
        {
          "output_type": "stream",
          "name": "stdout",
          "text": [
            "14 0.45831403821674965 2.0075947434314414\n"
          ]
        },
        {
          "output_type": "stream",
          "name": "stderr",
          "text": [
            "100%|██████████| 937/937 [00:16<00:00, 57.98it/s]\n"
          ]
        },
        {
          "output_type": "stream",
          "name": "stdout",
          "text": [
            "15 0.4136228948481691 2.230042278448571\n"
          ]
        },
        {
          "output_type": "stream",
          "name": "stderr",
          "text": [
            "100%|██████████| 937/937 [00:16<00:00, 57.93it/s]\n"
          ]
        },
        {
          "output_type": "stream",
          "name": "stdout",
          "text": [
            "16 0.43378442735783956 2.310522092062992\n"
          ]
        },
        {
          "output_type": "stream",
          "name": "stderr",
          "text": [
            "100%|██████████| 937/937 [00:17<00:00, 54.48it/s]\n"
          ]
        },
        {
          "output_type": "stream",
          "name": "stdout",
          "text": [
            "17 0.52244544967516 2.1005483242338214\n"
          ]
        },
        {
          "output_type": "stream",
          "name": "stderr",
          "text": [
            "100%|██████████| 937/937 [00:16<00:00, 55.99it/s]\n"
          ]
        },
        {
          "output_type": "stream",
          "name": "stdout",
          "text": [
            "18 0.5073893415635271 2.094763481756921\n"
          ]
        },
        {
          "output_type": "stream",
          "name": "stderr",
          "text": [
            "100%|██████████| 937/937 [00:16<00:00, 57.69it/s]\n"
          ]
        },
        {
          "output_type": "stream",
          "name": "stdout",
          "text": [
            "19 0.4231089561255281 2.2245569133707654\n"
          ]
        },
        {
          "output_type": "stream",
          "name": "stderr",
          "text": [
            "100%|██████████| 937/937 [00:16<00:00, 57.99it/s]\n"
          ]
        },
        {
          "output_type": "stream",
          "name": "stdout",
          "text": [
            "20 0.43209077915616073 2.2303906006136214\n"
          ]
        },
        {
          "output_type": "stream",
          "name": "stderr",
          "text": [
            "100%|██████████| 937/937 [00:17<00:00, 52.57it/s]\n"
          ]
        },
        {
          "output_type": "stream",
          "name": "stdout",
          "text": [
            "21 0.42310054010235515 2.286195949531034\n"
          ]
        },
        {
          "output_type": "stream",
          "name": "stderr",
          "text": [
            "100%|██████████| 937/937 [00:16<00:00, 55.65it/s]\n"
          ]
        },
        {
          "output_type": "stream",
          "name": "stdout",
          "text": [
            "22 0.41608458666753106 2.329468636782472\n"
          ]
        },
        {
          "output_type": "stream",
          "name": "stderr",
          "text": [
            "100%|██████████| 937/937 [00:16<00:00, 55.36it/s]\n"
          ]
        },
        {
          "output_type": "stream",
          "name": "stdout",
          "text": [
            "23 0.35928200361822815 2.537129626202863\n"
          ]
        },
        {
          "output_type": "stream",
          "name": "stderr",
          "text": [
            "100%|██████████| 937/937 [00:16<00:00, 57.97it/s]\n"
          ]
        },
        {
          "output_type": "stream",
          "name": "stdout",
          "text": [
            "24 0.3966139262838323 2.476226714402914\n"
          ]
        },
        {
          "output_type": "stream",
          "name": "stderr",
          "text": [
            "100%|██████████| 937/937 [00:16<00:00, 56.79it/s]\n"
          ]
        },
        {
          "output_type": "stream",
          "name": "stdout",
          "text": [
            "25 0.41152134275296454 2.4744925745777793\n"
          ]
        },
        {
          "output_type": "stream",
          "name": "stderr",
          "text": [
            "100%|██████████| 937/937 [00:16<00:00, 57.33it/s]\n"
          ]
        },
        {
          "output_type": "stream",
          "name": "stdout",
          "text": [
            "26 0.40804511332524623 2.4626830087272946\n"
          ]
        },
        {
          "output_type": "stream",
          "name": "stderr",
          "text": [
            "100%|██████████| 937/937 [00:16<00:00, 55.58it/s]\n"
          ]
        },
        {
          "output_type": "stream",
          "name": "stdout",
          "text": [
            "27 0.43464525657822256 2.4617728164127315\n"
          ]
        },
        {
          "output_type": "stream",
          "name": "stderr",
          "text": [
            "100%|██████████| 937/937 [00:17<00:00, 54.26it/s]\n"
          ]
        },
        {
          "output_type": "stream",
          "name": "stdout",
          "text": [
            "28 0.428321666419188 2.5079960181847962\n"
          ]
        },
        {
          "output_type": "stream",
          "name": "stderr",
          "text": [
            "100%|██████████| 937/937 [00:16<00:00, 57.29it/s]\n"
          ]
        },
        {
          "output_type": "stream",
          "name": "stdout",
          "text": [
            "29 0.3988233103855188 2.576816746875596\n"
          ]
        },
        {
          "output_type": "stream",
          "name": "stderr",
          "text": [
            "100%|██████████| 937/937 [00:16<00:00, 57.81it/s]\n"
          ]
        },
        {
          "output_type": "stream",
          "name": "stdout",
          "text": [
            "30 0.440773094492381 2.5072768763773214\n"
          ]
        },
        {
          "output_type": "stream",
          "name": "stderr",
          "text": [
            "100%|██████████| 937/937 [00:16<00:00, 57.37it/s]\n"
          ]
        },
        {
          "output_type": "stream",
          "name": "stdout",
          "text": [
            "31 0.4423282054534208 2.5461597908268363\n"
          ]
        },
        {
          "output_type": "stream",
          "name": "stderr",
          "text": [
            "100%|██████████| 937/937 [00:16<00:00, 56.38it/s]\n"
          ]
        },
        {
          "output_type": "stream",
          "name": "stdout",
          "text": [
            "32 0.44150221414601665 2.474729055783283\n"
          ]
        },
        {
          "output_type": "stream",
          "name": "stderr",
          "text": [
            "100%|██████████| 937/937 [00:17<00:00, 52.48it/s]\n"
          ]
        },
        {
          "output_type": "stream",
          "name": "stdout",
          "text": [
            "33 0.4322969248257935 2.484900736630663\n"
          ]
        },
        {
          "output_type": "stream",
          "name": "stderr",
          "text": [
            "100%|██████████| 937/937 [00:16<00:00, 57.09it/s]\n"
          ]
        },
        {
          "output_type": "stream",
          "name": "stdout",
          "text": [
            "34 0.43763028118628194 2.5014230912370388\n"
          ]
        },
        {
          "output_type": "stream",
          "name": "stderr",
          "text": [
            "100%|██████████| 937/937 [00:16<00:00, 57.63it/s]\n"
          ]
        },
        {
          "output_type": "stream",
          "name": "stdout",
          "text": [
            "35 0.39175891338697494 2.692176292138522\n"
          ]
        },
        {
          "output_type": "stream",
          "name": "stderr",
          "text": [
            "100%|██████████| 937/937 [00:16<00:00, 57.77it/s]\n"
          ]
        },
        {
          "output_type": "stream",
          "name": "stdout",
          "text": [
            "36 0.4907224420994806 2.488343217329638\n"
          ]
        },
        {
          "output_type": "stream",
          "name": "stderr",
          "text": [
            "100%|██████████| 937/937 [00:18<00:00, 51.74it/s]\n"
          ]
        },
        {
          "output_type": "stream",
          "name": "stdout",
          "text": [
            "37 0.4303843464579119 2.6056422823393994\n"
          ]
        },
        {
          "output_type": "stream",
          "name": "stderr",
          "text": [
            "100%|██████████| 937/937 [00:16<00:00, 55.58it/s]\n"
          ]
        },
        {
          "output_type": "stream",
          "name": "stdout",
          "text": [
            "38 0.49845570338573886 2.4242908196362767\n"
          ]
        },
        {
          "output_type": "stream",
          "name": "stderr",
          "text": [
            "100%|██████████| 937/937 [00:16<00:00, 58.32it/s]\n"
          ]
        },
        {
          "output_type": "stream",
          "name": "stdout",
          "text": [
            "39 0.4942520211511386 2.43549746357644\n"
          ]
        },
        {
          "output_type": "stream",
          "name": "stderr",
          "text": [
            "100%|██████████| 937/937 [00:16<00:00, 58.17it/s]\n"
          ]
        },
        {
          "output_type": "stream",
          "name": "stdout",
          "text": [
            "40 0.48654732521595545 2.4551452337232447\n"
          ]
        },
        {
          "output_type": "stream",
          "name": "stderr",
          "text": [
            "100%|██████████| 937/937 [00:16<00:00, 58.23it/s]\n"
          ]
        },
        {
          "output_type": "stream",
          "name": "stdout",
          "text": [
            "41 0.5009609998512929 2.5059844378855085\n"
          ]
        },
        {
          "output_type": "stream",
          "name": "stderr",
          "text": [
            "100%|██████████| 937/937 [00:16<00:00, 58.08it/s]\n"
          ]
        },
        {
          "output_type": "stream",
          "name": "stdout",
          "text": [
            "42 0.49502993533298323 2.480296754404473\n"
          ]
        },
        {
          "output_type": "stream",
          "name": "stderr",
          "text": [
            "100%|██████████| 937/937 [00:16<00:00, 56.28it/s]\n"
          ]
        },
        {
          "output_type": "stream",
          "name": "stdout",
          "text": [
            "43 0.45870322542485714 2.518501930328418\n"
          ]
        },
        {
          "output_type": "stream",
          "name": "stderr",
          "text": [
            "100%|██████████| 937/937 [00:16<00:00, 55.55it/s]\n"
          ]
        },
        {
          "output_type": "stream",
          "name": "stdout",
          "text": [
            "44 0.576205168933217 2.3143175328935603\n"
          ]
        },
        {
          "output_type": "stream",
          "name": "stderr",
          "text": [
            "100%|██████████| 937/937 [00:16<00:00, 58.52it/s]\n"
          ]
        },
        {
          "output_type": "stream",
          "name": "stdout",
          "text": [
            "45 0.4746688786921913 2.501320429011114\n"
          ]
        },
        {
          "output_type": "stream",
          "name": "stderr",
          "text": [
            "100%|██████████| 937/937 [00:15<00:00, 58.60it/s]\n"
          ]
        },
        {
          "output_type": "stream",
          "name": "stdout",
          "text": [
            "46 0.5106621240857062 2.3945229389369804\n"
          ]
        },
        {
          "output_type": "stream",
          "name": "stderr",
          "text": [
            "100%|██████████| 937/937 [00:16<00:00, 58.24it/s]\n"
          ]
        },
        {
          "output_type": "stream",
          "name": "stdout",
          "text": [
            "47 0.5121066655522349 2.4543277317838963\n"
          ]
        },
        {
          "output_type": "stream",
          "name": "stderr",
          "text": [
            "100%|██████████| 937/937 [00:16<00:00, 58.25it/s]\n"
          ]
        },
        {
          "output_type": "stream",
          "name": "stdout",
          "text": [
            "48 0.5246747833305896 2.4388889036158234\n"
          ]
        },
        {
          "output_type": "stream",
          "name": "stderr",
          "text": [
            "100%|██████████| 937/937 [00:16<00:00, 55.44it/s]\n"
          ]
        },
        {
          "output_type": "stream",
          "name": "stdout",
          "text": [
            "49 0.522003538389725 2.430914558748553\n"
          ]
        },
        {
          "output_type": "stream",
          "name": "stderr",
          "text": [
            "100%|██████████| 937/937 [00:16<00:00, 55.45it/s]\n"
          ]
        },
        {
          "output_type": "stream",
          "name": "stdout",
          "text": [
            "50 0.5171162594217119 2.3977399966505573\n"
          ]
        },
        {
          "output_type": "stream",
          "name": "stderr",
          "text": [
            "100%|██████████| 937/937 [00:16<00:00, 58.08it/s]\n"
          ]
        },
        {
          "output_type": "stream",
          "name": "stdout",
          "text": [
            "51 0.5238920623553855 2.4018105010212802\n"
          ]
        },
        {
          "output_type": "stream",
          "name": "stderr",
          "text": [
            "100%|██████████| 937/937 [00:16<00:00, 58.08it/s]\n"
          ]
        },
        {
          "output_type": "stream",
          "name": "stdout",
          "text": [
            "52 0.5367268621126386 2.4604235231049416\n"
          ]
        },
        {
          "output_type": "stream",
          "name": "stderr",
          "text": [
            "100%|██████████| 937/937 [00:16<00:00, 57.41it/s]\n"
          ]
        },
        {
          "output_type": "stream",
          "name": "stdout",
          "text": [
            "53 0.5437116488384971 2.401842393641029\n"
          ]
        },
        {
          "output_type": "stream",
          "name": "stderr",
          "text": [
            "100%|██████████| 937/937 [00:17<00:00, 54.95it/s]\n"
          ]
        },
        {
          "output_type": "stream",
          "name": "stdout",
          "text": [
            "54 0.5408848720337309 2.4486822006923794\n"
          ]
        },
        {
          "output_type": "stream",
          "name": "stderr",
          "text": [
            "100%|██████████| 937/937 [00:16<00:00, 55.28it/s]\n"
          ]
        },
        {
          "output_type": "stream",
          "name": "stdout",
          "text": [
            "55 0.743876531004524 2.1505669644191907\n"
          ]
        },
        {
          "output_type": "stream",
          "name": "stderr",
          "text": [
            "100%|██████████| 937/937 [00:16<00:00, 57.07it/s]\n"
          ]
        },
        {
          "output_type": "stream",
          "name": "stdout",
          "text": [
            "56 0.48217001781583213 2.623426608240337\n"
          ]
        },
        {
          "output_type": "stream",
          "name": "stderr",
          "text": [
            "100%|██████████| 937/937 [00:15<00:00, 58.61it/s]\n"
          ]
        },
        {
          "output_type": "stream",
          "name": "stdout",
          "text": [
            "57 0.5972370986241287 2.307932708153984\n"
          ]
        },
        {
          "output_type": "stream",
          "name": "stderr",
          "text": [
            "100%|██████████| 937/937 [00:15<00:00, 58.72it/s]\n"
          ]
        },
        {
          "output_type": "stream",
          "name": "stdout",
          "text": [
            "58 0.57177911786285 2.3369146114734094\n"
          ]
        },
        {
          "output_type": "stream",
          "name": "stderr",
          "text": [
            "100%|██████████| 937/937 [00:15<00:00, 60.24it/s]\n"
          ]
        },
        {
          "output_type": "stream",
          "name": "stdout",
          "text": [
            "59 0.5556138383031782 2.347597612388106\n"
          ]
        },
        {
          "output_type": "stream",
          "name": "stderr",
          "text": [
            "100%|██████████| 937/937 [00:16<00:00, 57.59it/s]\n"
          ]
        },
        {
          "output_type": "stream",
          "name": "stdout",
          "text": [
            "60 1.006628735215585 1.752723192965081\n"
          ]
        },
        {
          "output_type": "stream",
          "name": "stderr",
          "text": [
            "100%|██████████| 937/937 [00:18<00:00, 51.24it/s]\n"
          ]
        },
        {
          "output_type": "stream",
          "name": "stdout",
          "text": [
            "61 0.7437122745186949 2.2541105312115355\n"
          ]
        },
        {
          "output_type": "stream",
          "name": "stderr",
          "text": [
            "100%|██████████| 937/937 [00:17<00:00, 54.35it/s]\n"
          ]
        },
        {
          "output_type": "stream",
          "name": "stdout",
          "text": [
            "62 0.670419217682699 2.27786388799246\n"
          ]
        },
        {
          "output_type": "stream",
          "name": "stderr",
          "text": [
            "100%|██████████| 937/937 [00:16<00:00, 58.46it/s]\n"
          ]
        },
        {
          "output_type": "stream",
          "name": "stdout",
          "text": [
            "63 0.4974124828391294 2.6378360308603392\n"
          ]
        },
        {
          "output_type": "stream",
          "name": "stderr",
          "text": [
            "100%|██████████| 937/937 [00:16<00:00, 56.12it/s]\n"
          ]
        },
        {
          "output_type": "stream",
          "name": "stdout",
          "text": [
            "64 0.6433664385066343 2.2226583588721276\n"
          ]
        },
        {
          "output_type": "stream",
          "name": "stderr",
          "text": [
            "100%|██████████| 937/937 [00:17<00:00, 54.47it/s]\n"
          ]
        },
        {
          "output_type": "stream",
          "name": "stdout",
          "text": [
            "65 0.6398258178694652 2.201157865554826\n"
          ]
        },
        {
          "output_type": "stream",
          "name": "stderr",
          "text": [
            "100%|██████████| 937/937 [00:16<00:00, 57.35it/s]\n"
          ]
        },
        {
          "output_type": "stream",
          "name": "stdout",
          "text": [
            "66 0.6458843567328112 2.199188169827456\n"
          ]
        },
        {
          "output_type": "stream",
          "name": "stderr",
          "text": [
            "100%|██████████| 937/937 [00:17<00:00, 52.92it/s]\n"
          ]
        },
        {
          "output_type": "stream",
          "name": "stdout",
          "text": [
            "67 0.6349449242001027 2.2270704922579396\n"
          ]
        },
        {
          "output_type": "stream",
          "name": "stderr",
          "text": [
            "100%|██████████| 937/937 [00:17<00:00, 55.05it/s]\n"
          ]
        },
        {
          "output_type": "stream",
          "name": "stdout",
          "text": [
            "68 0.6236515946551092 2.2060317736170716\n"
          ]
        },
        {
          "output_type": "stream",
          "name": "stderr",
          "text": [
            "100%|██████████| 937/937 [00:15<00:00, 59.80it/s]\n"
          ]
        },
        {
          "output_type": "stream",
          "name": "stdout",
          "text": [
            "69 0.6159764362564718 2.2345899015251574\n"
          ]
        },
        {
          "output_type": "stream",
          "name": "stderr",
          "text": [
            "100%|██████████| 937/937 [00:19<00:00, 48.78it/s]\n"
          ]
        },
        {
          "output_type": "stream",
          "name": "stdout",
          "text": [
            "70 1.3339647223244608 1.5375188947232836\n"
          ]
        },
        {
          "output_type": "stream",
          "name": "stderr",
          "text": [
            "100%|██████████| 937/937 [00:15<00:00, 58.84it/s]\n"
          ]
        },
        {
          "output_type": "stream",
          "name": "stdout",
          "text": [
            "71 0.7343802686180351 2.073022483634338\n"
          ]
        },
        {
          "output_type": "stream",
          "name": "stderr",
          "text": [
            "100%|██████████| 937/937 [00:17<00:00, 54.18it/s]\n"
          ]
        },
        {
          "output_type": "stream",
          "name": "stdout",
          "text": [
            "72 0.9811686747801851 1.855482958869466\n"
          ]
        },
        {
          "output_type": "stream",
          "name": "stderr",
          "text": [
            "100%|██████████| 937/937 [00:16<00:00, 56.96it/s]\n"
          ]
        },
        {
          "output_type": "stream",
          "name": "stdout",
          "text": [
            "73 0.7849193365813065 2.0390411489419518\n"
          ]
        },
        {
          "output_type": "stream",
          "name": "stderr",
          "text": [
            "100%|██████████| 937/937 [00:16<00:00, 56.91it/s]\n"
          ]
        },
        {
          "output_type": "stream",
          "name": "stdout",
          "text": [
            "74 0.421137533978566 2.729421351482672\n"
          ]
        },
        {
          "output_type": "stream",
          "name": "stderr",
          "text": [
            "100%|██████████| 937/937 [00:15<00:00, 58.65it/s]\n"
          ]
        },
        {
          "output_type": "stream",
          "name": "stdout",
          "text": [
            "75 1.092602808072193 1.6948791134828183\n"
          ]
        },
        {
          "output_type": "stream",
          "name": "stderr",
          "text": [
            "100%|██████████| 937/937 [00:15<00:00, 59.07it/s]\n"
          ]
        },
        {
          "output_type": "stream",
          "name": "stdout",
          "text": [
            "76 0.5455046559792318 2.3293920542921556\n"
          ]
        },
        {
          "output_type": "stream",
          "name": "stderr",
          "text": [
            "100%|██████████| 937/937 [00:16<00:00, 56.90it/s]\n"
          ]
        },
        {
          "output_type": "stream",
          "name": "stdout",
          "text": [
            "77 0.6915304518305759 2.105606051875535\n"
          ]
        },
        {
          "output_type": "stream",
          "name": "stderr",
          "text": [
            "100%|██████████| 937/937 [00:16<00:00, 56.79it/s]\n"
          ]
        },
        {
          "output_type": "stream",
          "name": "stdout",
          "text": [
            "78 1.2397487270412222 1.5024962472941095\n"
          ]
        },
        {
          "output_type": "stream",
          "name": "stderr",
          "text": [
            "100%|██████████| 937/937 [00:16<00:00, 55.54it/s]\n"
          ]
        },
        {
          "output_type": "stream",
          "name": "stdout",
          "text": [
            "79 1.0728536989289388 1.7009911415671082\n"
          ]
        },
        {
          "output_type": "stream",
          "name": "stderr",
          "text": [
            "100%|██████████| 937/937 [00:17<00:00, 53.98it/s]\n"
          ]
        },
        {
          "output_type": "stream",
          "name": "stdout",
          "text": [
            "80 0.648447859662574 2.0469983188930416\n"
          ]
        },
        {
          "output_type": "stream",
          "name": "stderr",
          "text": [
            "100%|██████████| 937/937 [00:16<00:00, 55.33it/s]\n"
          ]
        },
        {
          "output_type": "stream",
          "name": "stdout",
          "text": [
            "81 0.6232244647490686 2.090659709088703\n"
          ]
        },
        {
          "output_type": "stream",
          "name": "stderr",
          "text": [
            "100%|██████████| 937/937 [00:16<00:00, 56.64it/s]\n"
          ]
        },
        {
          "output_type": "stream",
          "name": "stdout",
          "text": [
            "82 0.6664039740376692 2.0620413509733266\n"
          ]
        },
        {
          "output_type": "stream",
          "name": "stderr",
          "text": [
            "100%|██████████| 937/937 [00:17<00:00, 54.83it/s]\n"
          ]
        },
        {
          "output_type": "stream",
          "name": "stdout",
          "text": [
            "83 0.7078903509878425 2.0217941456187116\n"
          ]
        },
        {
          "output_type": "stream",
          "name": "stderr",
          "text": [
            "100%|██████████| 937/937 [00:17<00:00, 53.85it/s]\n"
          ]
        },
        {
          "output_type": "stream",
          "name": "stdout",
          "text": [
            "84 0.6955914645273886 2.013484339958321\n"
          ]
        },
        {
          "output_type": "stream",
          "name": "stderr",
          "text": [
            "100%|██████████| 937/937 [00:16<00:00, 55.64it/s]\n"
          ]
        },
        {
          "output_type": "stream",
          "name": "stdout",
          "text": [
            "85 0.7016798185945957 2.0293005950422907\n"
          ]
        },
        {
          "output_type": "stream",
          "name": "stderr",
          "text": [
            "100%|██████████| 937/937 [00:17<00:00, 53.07it/s]\n"
          ]
        },
        {
          "output_type": "stream",
          "name": "stdout",
          "text": [
            "86 0.698468359646446 2.0497497018653275\n"
          ]
        },
        {
          "output_type": "stream",
          "name": "stderr",
          "text": [
            "100%|██████████| 937/937 [00:15<00:00, 58.59it/s]\n"
          ]
        },
        {
          "output_type": "stream",
          "name": "stdout",
          "text": [
            "87 0.6799249726972814 2.0727604565269284\n"
          ]
        },
        {
          "output_type": "stream",
          "name": "stderr",
          "text": [
            "100%|██████████| 937/937 [00:15<00:00, 59.38it/s]\n"
          ]
        },
        {
          "output_type": "stream",
          "name": "stdout",
          "text": [
            "88 0.6917799796785845 2.0702690428069204\n"
          ]
        },
        {
          "output_type": "stream",
          "name": "stderr",
          "text": [
            "100%|██████████| 937/937 [00:15<00:00, 59.81it/s]\n"
          ]
        },
        {
          "output_type": "stream",
          "name": "stdout",
          "text": [
            "89 0.7047340293576904 2.049808291259163\n"
          ]
        },
        {
          "output_type": "stream",
          "name": "stderr",
          "text": [
            "100%|██████████| 937/937 [00:16<00:00, 57.88it/s]\n"
          ]
        },
        {
          "output_type": "stream",
          "name": "stdout",
          "text": [
            "90 0.7361588637755037 1.9951122288006728\n"
          ]
        },
        {
          "output_type": "stream",
          "name": "stderr",
          "text": [
            "100%|██████████| 937/937 [00:16<00:00, 57.16it/s]\n"
          ]
        },
        {
          "output_type": "stream",
          "name": "stdout",
          "text": [
            "91 0.6540527042228105 2.0833932060823876\n"
          ]
        },
        {
          "output_type": "stream",
          "name": "stderr",
          "text": [
            "100%|██████████| 937/937 [00:16<00:00, 58.51it/s]\n"
          ]
        },
        {
          "output_type": "stream",
          "name": "stdout",
          "text": [
            "92 0.715248158004775 1.961734428985905\n"
          ]
        },
        {
          "output_type": "stream",
          "name": "stderr",
          "text": [
            "100%|██████████| 937/937 [00:15<00:00, 58.89it/s]\n"
          ]
        },
        {
          "output_type": "stream",
          "name": "stdout",
          "text": [
            "93 0.7002288393811457 1.9881703602975054\n"
          ]
        },
        {
          "output_type": "stream",
          "name": "stderr",
          "text": [
            "100%|██████████| 937/937 [00:16<00:00, 58.28it/s]\n"
          ]
        },
        {
          "output_type": "stream",
          "name": "stdout",
          "text": [
            "94 0.7050084022918404 1.988326113913586\n"
          ]
        },
        {
          "output_type": "stream",
          "name": "stderr",
          "text": [
            "100%|██████████| 937/937 [00:15<00:00, 59.41it/s]\n"
          ]
        },
        {
          "output_type": "stream",
          "name": "stdout",
          "text": [
            "95 0.8318882970697979 1.8251747040509414\n"
          ]
        },
        {
          "output_type": "stream",
          "name": "stderr",
          "text": [
            "100%|██████████| 937/937 [00:15<00:00, 58.63it/s]\n"
          ]
        },
        {
          "output_type": "stream",
          "name": "stdout",
          "text": [
            "96 0.6345787151391631 2.090464726965099\n"
          ]
        },
        {
          "output_type": "stream",
          "name": "stderr",
          "text": [
            "100%|██████████| 937/937 [00:16<00:00, 57.39it/s]\n"
          ]
        },
        {
          "output_type": "stream",
          "name": "stdout",
          "text": [
            "97 0.6941051138058034 1.9601021632313602\n"
          ]
        },
        {
          "output_type": "stream",
          "name": "stderr",
          "text": [
            "100%|██████████| 937/937 [00:16<00:00, 57.23it/s]\n"
          ]
        },
        {
          "output_type": "stream",
          "name": "stdout",
          "text": [
            "98 0.6967646954153747 1.9735487464143475\n"
          ]
        },
        {
          "output_type": "stream",
          "name": "stderr",
          "text": [
            "100%|██████████| 937/937 [00:15<00:00, 59.22it/s]"
          ]
        },
        {
          "output_type": "stream",
          "name": "stdout",
          "text": [
            "99 0.7088932843447495 1.9566744627031472\n"
          ]
        },
        {
          "output_type": "stream",
          "name": "stderr",
          "text": [
            "\n"
          ]
        }
      ]
    },
    {
      "cell_type": "code",
      "source": [
        "!zip -r /content/file.zip /content/"
      ],
      "metadata": {
        "colab": {
          "base_uri": "https://localhost:8080/"
        },
        "id": "8goYivVVCEd5",
        "outputId": "ef025643-ef11-412c-de4f-bda3b70a92b8"
      },
      "execution_count": 13,
      "outputs": [
        {
          "output_type": "stream",
          "name": "stdout",
          "text": [
            "  adding: content/ (stored 0%)\n",
            "  adding: content/.config/ (stored 0%)\n",
            "  adding: content/.config/active_config (stored 0%)\n",
            "  adding: content/.config/logs/ (stored 0%)\n",
            "  adding: content/.config/logs/2023.11.21/ (stored 0%)\n",
            "  adding: content/.config/logs/2023.11.21/14.24.29.745469.log (deflated 58%)\n",
            "  adding: content/.config/logs/2023.11.21/14.18.34.556141.log (deflated 91%)\n",
            "  adding: content/.config/logs/2023.11.21/14.24.39.684965.log (deflated 57%)\n",
            "  adding: content/.config/logs/2023.11.21/14.21.40.489438.log (deflated 86%)\n",
            "  adding: content/.config/logs/2023.11.21/14.24.40.484653.log (deflated 56%)\n",
            "  adding: content/.config/logs/2023.11.21/14.21.30.762319.log (deflated 58%)\n",
            "  adding: content/.config/.last_update_check.json (deflated 22%)\n",
            "  adding: content/.config/.last_survey_prompt.yaml (stored 0%)\n",
            "  adding: content/.config/.last_opt_in_prompt.yaml (stored 0%)\n",
            "  adding: content/.config/default_configs.db (deflated 98%)\n",
            "  adding: content/.config/gce (stored 0%)\n",
            "  adding: content/.config/configurations/ (stored 0%)\n",
            "  adding: content/.config/configurations/config_default (deflated 15%)\n",
            "  adding: content/.config/config_sentinel (stored 0%)\n",
            "  adding: content/generated_041.jpg (deflated 17%)\n",
            "  adding: content/generated_028.jpg (deflated 14%)\n",
            "  adding: content/generated_021.jpg (deflated 14%)\n",
            "  adding: content/generated_083.jpg (deflated 17%)\n",
            "  adding: content/generated_056.jpg (deflated 17%)\n",
            "  adding: content/generated_074.jpg (deflated 17%)\n",
            "  adding: content/generated_065.jpg (deflated 17%)\n",
            "  adding: content/generated_094.jpg (deflated 17%)\n",
            "  adding: content/generated_095.jpg (deflated 15%)\n",
            "  adding: content/generated_045.jpg (deflated 17%)\n",
            "  adding: content/generated_031.jpg (deflated 15%)\n",
            "  adding: content/generated_014.jpg (deflated 14%)\n",
            "  adding: content/generated_059.jpg (deflated 18%)\n",
            "  adding: content/generated_080.jpg (deflated 15%)\n",
            "  adding: content/generated_047.jpg (deflated 17%)\n",
            "  adding: content/generated_026.jpg (deflated 16%)\n",
            "  adding: content/generated_076.jpg (deflated 15%)\n",
            "  adding: content/generated_093.jpg (deflated 17%)\n",
            "  adding: content/generated_048.jpg (deflated 17%)\n",
            "  adding: content/generated_067.jpg (deflated 17%)\n",
            "  adding: content/generated_042.jpg (deflated 16%)\n",
            "  adding: content/generated_099.jpg (deflated 17%)\n",
            "  adding: content/generated_038.jpg (deflated 16%)\n",
            "  adding: content/generated_085.jpg (deflated 17%)\n",
            "  adding: content/generated_044.jpg (deflated 15%)\n",
            "  adding: content/generated_005.jpg (deflated 18%)\n",
            "  adding: content/generated_072.jpg (deflated 15%)\n",
            "  adding: content/generated_011.jpg (deflated 15%)\n",
            "  adding: content/generated_036.jpg (deflated 16%)\n",
            "  adding: content/generated_012.jpg (deflated 14%)\n",
            "  adding: content/generated_019.jpg (deflated 14%)\n",
            "  adding: content/generated_032.jpg (deflated 17%)\n",
            "  adding: content/generated_001.jpg (deflated 14%)\n",
            "  adding: content/generated_018.jpg (deflated 13%)\n",
            "  adding: content/generated_084.jpg (deflated 16%)\n",
            "  adding: content/generated_070.jpg (deflated 15%)\n",
            "  adding: content/generated_078.jpg (deflated 16%)\n",
            "  adding: content/generated_006.jpg (deflated 13%)\n",
            "  adding: content/generated_052.jpg (deflated 18%)\n",
            "  adding: content/generated_081.jpg (deflated 14%)\n",
            "  adding: content/generated_043.jpg (deflated 17%)\n",
            "  adding: content/generated_069.jpg (deflated 16%)\n",
            "  adding: content/generated_058.jpg (deflated 17%)\n",
            "  adding: content/generated_054.jpg (deflated 17%)\n",
            "  adding: content/generated_007.jpg (deflated 14%)\n",
            "  adding: content/generated_017.jpg (deflated 15%)\n",
            "  adding: content/generated_040.jpg (deflated 16%)\n",
            "  adding: content/generated_046.jpg (deflated 17%)\n",
            "  adding: content/generated_013.jpg (deflated 16%)\n",
            "  adding: content/generated_061.jpg (deflated 14%)\n",
            "  adding: content/generated_029.jpg (deflated 17%)\n",
            "  adding: content/generated_050.jpg (deflated 18%)\n",
            "  adding: content/generated_004.jpg (deflated 21%)\n",
            "  adding: content/generated_060.jpg (deflated 15%)\n",
            "  adding: content/generated_066.jpg (deflated 17%)\n",
            "  adding: content/generated_068.jpg (deflated 17%)\n",
            "  adding: content/data/ (stored 0%)\n",
            "  adding: content/data/MNIST/ (stored 0%)\n",
            "  adding: content/data/MNIST/raw/ (stored 0%)\n",
            "  adding: content/data/MNIST/raw/t10k-images-idx3-ubyte (deflated 79%)\n",
            "  adding: content/data/MNIST/raw/train-images-idx3-ubyte (deflated 79%)\n",
            "  adding: content/data/MNIST/raw/train-images-idx3-ubyte.gz (deflated 0%)\n",
            "  adding: content/data/MNIST/raw/train-labels-idx1-ubyte (deflated 52%)\n",
            "  adding: content/data/MNIST/raw/t10k-labels-idx1-ubyte.gz (stored 0%)\n",
            "  adding: content/data/MNIST/raw/t10k-images-idx3-ubyte.gz (deflated 0%)\n",
            "  adding: content/data/MNIST/raw/t10k-labels-idx1-ubyte (deflated 55%)\n",
            "  adding: content/data/MNIST/raw/train-labels-idx1-ubyte.gz (stored 0%)\n",
            "  adding: content/generated_055.jpg (deflated 16%)\n",
            "  adding: content/generated_003.jpg (deflated 20%)\n",
            "  adding: content/generated_063.jpg (deflated 17%)\n",
            "  adding: content/generated_010.jpg (deflated 14%)\n",
            "  adding: content/generated_000.jpg (deflated 13%)\n",
            "  adding: content/generated_090.jpg (deflated 16%)\n",
            "  adding: content/generated_082.jpg (deflated 16%)\n",
            "  adding: content/generated_075.jpg (deflated 15%)\n",
            "  adding: content/generated_098.jpg (deflated 18%)\n",
            "  adding: content/generated_030.jpg (deflated 16%)\n",
            "  adding: content/generated_039.jpg (deflated 17%)\n",
            "  adding: content/generated_049.jpg (deflated 17%)\n",
            "  adding: content/generated_089.jpg (deflated 17%)\n",
            "  adding: content/generated_027.jpg (deflated 17%)\n",
            "  adding: content/generated_051.jpg (deflated 16%)\n",
            "  adding: content/generated_091.jpg (deflated 17%)\n",
            "  adding: content/generated_008.jpg (deflated 14%)\n",
            "  adding: content/generated_073.jpg (deflated 15%)\n",
            "  adding: content/generated_034.jpg (deflated 15%)\n",
            "  adding: content/generated_023.jpg (deflated 16%)\n",
            "  adding: content/generated_025.jpg (deflated 17%)\n",
            "  adding: content/generated_015.jpg (deflated 14%)\n",
            "  adding: content/generated_053.jpg (deflated 17%)\n",
            "  adding: content/generated_062.jpg (deflated 15%)\n",
            "  adding: content/generated_088.jpg (deflated 17%)\n",
            "  adding: content/generated_020.jpg (deflated 14%)\n",
            "  adding: content/generated_016.jpg (deflated 16%)\n",
            "  adding: content/generated_033.jpg (deflated 17%)\n",
            "  adding: content/generated_037.jpg (deflated 17%)\n",
            "  adding: content/generated_022.jpg (deflated 14%)\n",
            "  adding: content/generated_096.jpg (deflated 17%)\n",
            "  adding: content/generated_097.jpg (deflated 18%)\n",
            "  adding: content/generated_079.jpg (deflated 14%)\n",
            "  adding: content/generated_087.jpg (deflated 17%)\n",
            "  adding: content/generated_002.jpg (deflated 17%)\n",
            "  adding: content/generated_086.jpg (deflated 17%)\n",
            "  adding: content/generated_035.jpg (deflated 16%)\n",
            "  adding: content/generated_092.jpg (deflated 17%)\n",
            "  adding: content/generated_024.jpg (deflated 15%)\n",
            "  adding: content/generated_057.jpg (deflated 17%)\n",
            "  adding: content/generated_064.jpg (deflated 16%)\n",
            "  adding: content/generated_077.jpg (deflated 16%)\n",
            "  adding: content/generated_009.jpg (deflated 15%)\n",
            "  adding: content/generated_071.jpg (deflated 15%)\n",
            "  adding: content/sample_data/ (stored 0%)\n",
            "  adding: content/sample_data/README.md (deflated 42%)\n",
            "  adding: content/sample_data/anscombe.json (deflated 83%)\n",
            "  adding: content/sample_data/california_housing_test.csv (deflated 76%)\n",
            "  adding: content/sample_data/mnist_train_small.csv (deflated 88%)\n",
            "  adding: content/sample_data/california_housing_train.csv (deflated 79%)\n",
            "  adding: content/sample_data/mnist_test.csv (deflated 88%)\n"
          ]
        }
      ]
    },
    {
      "cell_type": "code",
      "source": [],
      "metadata": {
        "id": "JmeKUA2jCL5a"
      },
      "execution_count": null,
      "outputs": []
    }
  ]
}